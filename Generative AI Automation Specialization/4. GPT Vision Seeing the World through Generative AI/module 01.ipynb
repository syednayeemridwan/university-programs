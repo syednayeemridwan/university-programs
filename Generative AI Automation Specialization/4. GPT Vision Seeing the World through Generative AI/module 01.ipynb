{
 "cells": [
  {
   "cell_type": "markdown",
   "id": "1756230d",
   "metadata": {},
   "source": [
    "# Computer Vision with GPT"
   ]
  },
  {
   "cell_type": "markdown",
   "id": "dc0c448a",
   "metadata": {},
   "source": [
    "- Take pictures of things, upload on gpt, and ask questions, tell it to automate something (eg: listing, organizing, sending email etc)\n",
    "- example: Describe in detail what is seen in this photo. Give me a detailed listing of what is in the photo and how using Generative AI to analyze them, extract information, detect things, find similarities & discrepancies, etc. could profoundly change tasks that I do everyday. Then, ask me questions about what I do professionally and the industry I am in. After I give you my answers, create three ideas for photos that you could take and the prompt you would provide with them to GPT-4V (Vision) to solve a real-world problem in my industry. \n"
   ]
  },
  {
   "cell_type": "markdown",
   "id": "12f0db7d",
   "metadata": {},
   "source": [
    "# Deduct Image"
   ]
  },
  {
   "cell_type": "markdown",
   "id": "50853d8d",
   "metadata": {},
   "source": [
    "- Tell me about the artistic style of this painting / image\n",
    "- Description pattern: Describe this image / describe the setting of the scene / ...\n",
    "- Describe + Query Pattern: Describe the image.. Then answer what .....\n",
    "- Description + Persona Pattern: Act as ..... and Describe the image"
   ]
  }
 ],
 "metadata": {
  "language_info": {
   "name": "python"
  }
 },
 "nbformat": 4,
 "nbformat_minor": 5
}

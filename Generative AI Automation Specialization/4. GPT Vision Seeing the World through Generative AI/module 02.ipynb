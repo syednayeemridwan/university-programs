{
 "cells": [
  {
   "cell_type": "markdown",
   "id": "4bf6eb72",
   "metadata": {},
   "source": [
    "# Extracting"
   ]
  },
  {
   "cell_type": "markdown",
   "id": "c72401ab",
   "metadata": {},
   "source": [
    "- Always provide context/description (what it is, what it is for, what to pay attention to, what is the reason) to an image to get more detailed or focused response\n",
    "- Here is an image. Here is all the information about .... that you need to do ..... Extract .... from this image. Here is what you need to do using this information ....\n",
    "- extract into structured format example:  extract csv item, amount, time, price\n",
    "- example: Here is an image. Whenever I ask you to draft an email for reimbursement, you should create a mailto link with an email to my admin (FILL IN) with the contents of the order and detailed costs. Include a business purpose (fill in with something reasonable or what I give you) and tell them to charge it to \"Account: 123.34.234.234.234\". It should be in the format: [Submit for Reimbursement](mailto:[email-address]?[subject]=[subject-text]&[body]=[body-text])\n"
   ]
  },
  {
   "cell_type": "markdown",
   "id": "0a1be6af",
   "metadata": {},
   "source": [
    "# Similarity and Differences Pattern"
   ]
  },
  {
   "cell_type": "markdown",
   "id": "e24a9586",
   "metadata": {},
   "source": [
    "- Here are two images. the first image is .... The second image is... Now explain the similarities and differences betweem the two images\n",
    "- It can be combined with other source of information as well. example: This is the image of what i want to make. here is the items i have bought in the list . what am i missing?"
   ]
  },
  {
   "cell_type": "markdown",
   "id": "cef61bb3",
   "metadata": {},
   "source": [
    "# Inventory Pattern"
   ]
  },
  {
   "cell_type": "markdown",
   "id": "b1149c66",
   "metadata": {},
   "source": [
    "- Give me an inventory of the ... elements in the room so that I can replicate it"
   ]
  },
  {
   "cell_type": "markdown",
   "id": "c9b34b1f",
   "metadata": {},
   "source": [
    "# Co-ordinate Pattern"
   ]
  },
  {
   "cell_type": "markdown",
   "id": "b93397ef",
   "metadata": {},
   "source": [
    "- Divide the image in 2 columns and 3 rows co-ordinate and do ...\n",
    "- example: assume you have a grid coordinate system of 4 columns by 4 rows. use this co-ordinate system tell me where in this image is chillox written\n"
   ]
  },
  {
   "cell_type": "markdown",
   "id": "1ac3b9fd",
   "metadata": {},
   "source": [
    "# Organization pattern"
   ]
  },
  {
   "cell_type": "markdown",
   "id": "cdb2d5a2",
   "metadata": {},
   "source": [
    "- Here is a list of items.. please create an inventory of files and then suggest a folder structure to organize them better\n",
    "- Here is a picture of ..... Create an inventory of what I spent and categorize /organize them into individual categories and show me the result\n",
    "- Here is a ...... Propose a better organization structure for this <item/image/ ....>"
   ]
  },
  {
   "cell_type": "markdown",
   "id": "da3f74c2",
   "metadata": {},
   "source": [
    "# Flipped Interaction Pattern"
   ]
  },
  {
   "cell_type": "markdown",
   "id": "a0f34939",
   "metadata": {},
   "source": [
    "- Here is a picture .... I want to buy a gift .... what gift can I buy i need to know. ask me enough questions until you have enough information to suggest me what ... to buy.\n"
   ]
  }
 ],
 "metadata": {
  "language_info": {
   "name": "python"
  }
 },
 "nbformat": 4,
 "nbformat_minor": 5
}

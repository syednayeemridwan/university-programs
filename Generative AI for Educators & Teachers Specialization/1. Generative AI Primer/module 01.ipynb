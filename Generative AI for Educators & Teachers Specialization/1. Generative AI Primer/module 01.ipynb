{
 "cells": [
  {
   "cell_type": "markdown",
   "id": "8bf8d3c9",
   "metadata": {},
   "source": [
    "# Radical View"
   ]
  },
  {
   "cell_type": "markdown",
   "id": "f1e3794a",
   "metadata": {},
   "source": [
    "- A generic answer of chatgpt should always be fine-tuned for specific use-case through iterative approach sequentially. Otherwise, the answer might look dumb.\n",
    "- Ask questions: Upload a pdf and say \"please read the provided document so that you can answer questions about it.\" ... then keep asking the questions that should be answered based on the provided document\n",
    "- generate visualizations based on content\n",
    "- Instead of the mentality to \"input whatever i want and chatgpt should answer the perfect answer\", the mentality should be \"input the customized input for specific use case and get the chatgpts answer first. then use sequential and iterative approach, fune-tune for a great output answer through feedback and more personalization\". \n",
    "- USE PATTERNS\n",
    "- Act as a skeptic of everything i say in .... find flaws in my assumptions, assertions and other key points and generate 10 hard questions for me."
   ]
  }
 ],
 "metadata": {
  "language_info": {
   "name": "python"
  }
 },
 "nbformat": 4,
 "nbformat_minor": 5
}

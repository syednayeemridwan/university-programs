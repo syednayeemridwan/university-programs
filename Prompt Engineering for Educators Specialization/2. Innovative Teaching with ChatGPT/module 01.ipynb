{
 "cells": [
  {
   "cell_type": "markdown",
   "id": "56df1092",
   "metadata": {},
   "source": [
    "# Explain (Targetting the Audience)"
   ]
  },
  {
   "cell_type": "markdown",
   "id": "04177752",
   "metadata": {},
   "source": [
    "- Explain the concept of ... to a 9 year old (who is interested in pokemon )\n",
    "- play an interactive game with me and the child. you will ask questions based on.. and the child will answer to the question and i will type the answer to you. you adapt your questions if you see questions are too easy or too hard. start asking questions one at a time one by one\n",
    "- i would like to turn these questions into powerpoint slides that i can display to audience through projector. help me with that.\n",
    "- Examples:\n",
    "    - Prompt: Create examples of <Fill in a List of Concepts> that are expressed in terms of <List of Student Interests>\n",
    "    - Prompt: Create examples of <Concept 1 and Concept 2> that are expressed in terms of <List of Student Interests> and help explain the difference between the two concepts.\n",
    "    - Prompt: Create examples of <Concept 1> where there are special circumstances or exceptions to the rule. \n",
    "    - Prompt: Create four sample hands-on activities to learn about <Fill in a List of Concepts> using <Fill in List of Available Physical Materials>\n",
    "    - Prompt: Create three possible games that students could play to learn about <Fill in a List of Concepts>, includes <Fill in List of Student Interests>, and uses these materials <Fill in a List of Materials>. \n",
    "    - Prompt: Provide me with 10 different possible approaches to solving <Fill in Problem Description> using <Resources Available to Solve Problem>. \n",
    "    - Prompt: Provide me with 10 different possible approaches to solving <Fill in Problem Description> using <Resources Available to Solve Problem>. Compare the pros and cons of the approaches relative to my goal of <Fill in Overall Goal>.\n",
    "    - Prompt: We are learning about <Fill in a List of Concepts>. Please create a quiz for me based on these concepts and <Fill in Student Interests>. Ask me one question at a time. Ask me the first question.\n",
    "    - Prompt: Generate ten sample problems based on <Fill in a List of Concepts> that are expressed in terms of <Fill in Student Interests> and help me apply the concepts. \n",
    "\n"
   ]
  },
  {
   "cell_type": "markdown",
   "id": "2b0e760c",
   "metadata": {},
   "source": [
    "# Review with a rubric"
   ]
  },
  {
   "cell_type": "markdown",
   "id": "550933a4",
   "metadata": {},
   "source": [
    "Using the following rubric, provide me suggestions to improve my work relative to each area of assessment. Do not give me answers, simply give me hints at what to improve:\n",
    "\n",
    "Rubric:\n",
    "\n",
    "----------------\n",
    "\n",
    "1. <Fill in Rubric 1>\n",
    "\n",
    "2. <Fill in Rubric 2>\n",
    "\n",
    "3. <etc....>\n",
    "\n",
    "Ask me to provide my work."
   ]
  }
 ],
 "metadata": {
  "language_info": {
   "name": "python"
  }
 },
 "nbformat": 4,
 "nbformat_minor": 5
}

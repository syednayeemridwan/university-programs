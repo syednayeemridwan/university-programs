{
 "cells": [
  {
   "cell_type": "markdown",
   "id": "afb79364",
   "metadata": {},
   "source": [
    "# Mental Model"
   ]
  },
  {
   "cell_type": "markdown",
   "id": "975ffcba",
   "metadata": {},
   "source": [
    "- Extract: Make sure how you tell the LLMs to extract the portion you want to work with from a file/content\n",
    "- Transform: Transform it step by step. That way it will be modular instead of meshing up thinking process. Create a mindmap / flowchart in mind the way you wanto to transform into a final piece. (Intermediate individual steps plans, each step after the result of the previous step)\n",
    "- AI Analyze: Find ambiguity, Have it explain the reasoning, Make it ask questions, generate examples and scenarios. Give more context and more specificity along the way to craft it with more refinement dynamically incrementally.\n",
    "- Create: Whatever you create with LLM, you need to take responsibility for it. The result from the LLM is DRAFT. You need to take care of it to make it your product. First divide into steps, work on those steps individually, then stitch them together."
   ]
  }
 ],
 "metadata": {
  "language_info": {
   "name": "python"
  }
 },
 "nbformat": 4,
 "nbformat_minor": 5
}

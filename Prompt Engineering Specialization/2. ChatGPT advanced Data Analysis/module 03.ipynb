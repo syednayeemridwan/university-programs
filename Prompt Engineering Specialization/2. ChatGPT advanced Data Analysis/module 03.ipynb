{
 "cells": [
  {
   "cell_type": "markdown",
   "id": "f8befafe",
   "metadata": {},
   "source": [
    "# What types of problems should be given to the LLM"
   ]
  },
  {
   "cell_type": "markdown",
   "id": "b0992612",
   "metadata": {},
   "source": [
    "- The task that we can verify and check\n",
    "- Always specify what to do. do not dump all the responsibilities on it, it will do shitty job. Because you are the boss. LLM is just the assistant. it is your use case that the gpt is preparing the task for. so you need to think better to make the task better. Who is your audience?\n",
    "- Verify solution. is the solution good?\n",
    "- Is the partial solution acceptible?\n",
    "- Focus on the use case where you have more time to think and use creativity- not less time to think and no creativity.\n",
    "\n",
    "Because:\n",
    "1. It's easy to check if the solution is correct and errors won't create new problems.\n",
    "2. A partial or flawed solution to the problem has value.\n",
    "3. The solution to the problem will support your creativity and thought.\n"
   ]
  },
  {
   "cell_type": "markdown",
   "id": "cffa0e67",
   "metadata": {},
   "source": [
    "# Self Evaluation"
   ]
  },
  {
   "cell_type": "markdown",
   "id": "d005c625",
   "metadata": {},
   "source": [
    "- Act as a skeptic of everything I say in this presentation. Find flaws in my assumptions, assertions and other key points and then generate 10 hard questions for me."
   ]
  },
  {
   "cell_type": "markdown",
   "id": "efc33b04",
   "metadata": {},
   "source": [
    "# Scaling Ideas"
   ]
  },
  {
   "cell_type": "markdown",
   "id": "f57b6392",
   "metadata": {},
   "source": [
    "- For each department, generate an interesting prompt that leverages specific ideas, jargons etc from the department. Also generate an idea for applying LLMs in this discipline."
   ]
  }
 ],
 "metadata": {
  "language_info": {
   "name": "python"
  }
 },
 "nbformat": 4,
 "nbformat_minor": 5
}

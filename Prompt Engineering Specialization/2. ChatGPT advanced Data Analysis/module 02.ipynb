{
 "cells": [
  {
   "cell_type": "markdown",
   "id": "91ce86d4",
   "metadata": {},
   "source": [
    "# Asking questions for a document"
   ]
  },
  {
   "cell_type": "markdown",
   "id": "72f90f9e",
   "metadata": {},
   "source": [
    "- Extract this document to plain text and then read the document and tell me all pieces of information that it is requesting. (you need to extract and then read because if you tell to directly tell it to read, it may not be able to read the document because it may not have the capabilities)\n",
    "- Reread the document and pull all the information to the smallest details and provide i....\n",
    "- Continue/proceed (if it hits limit)\n",
    "- Please read and explain the structure of the data in this document (do read and also explain so that what i understand is same as what you understand about the structure)\n"
   ]
  },
  {
   "cell_type": "markdown",
   "id": "32b976c2",
   "metadata": {},
   "source": [
    "# Giving constraints"
   ]
  },
  {
   "cell_type": "markdown",
   "id": "ff349e52",
   "metadata": {},
   "source": [
    "- Make the LLM read the task / document first so that later it knows what it is working on\n",
    "- Resize each image (each image is a constraint. this is an important piece that needs to be followed)\n",
    "- combine the images into an animated gif that flips to the next image at one second interval\n",
    "- turn the individual images into a powerpoint presentation with one image per slide\n",
    "- zip the files so that i can download them\n"
   ]
  },
  {
   "cell_type": "markdown",
   "id": "4b144745",
   "metadata": {},
   "source": [
    "# Capabilities"
   ]
  },
  {
   "cell_type": "markdown",
   "id": "a59877cd",
   "metadata": {},
   "source": [
    "- Give document and ask questions\n",
    "- give tables and manipulate them\n",
    "- upload media pic/videos and ask it to make gif or powerpoint\n",
    "- upload zip files and ask it to organize the files in it\n",
    "- turning conversations into software utilities (through expert opinion whose conversation is meaningful to the gpt. example: create programs with gpt with a programmer's help )"
   ]
  },
  {
   "cell_type": "markdown",
   "id": "58957fb2",
   "metadata": {},
   "source": [
    "# What if LLM is not giving output that you want"
   ]
  },
  {
   "cell_type": "markdown",
   "id": "77827234",
   "metadata": {},
   "source": [
    "- First see the output and see what the LLM is inferring based on the output (see the reasoning text what it is doing / )\n",
    "- Give feedback on the representation of information that you want it to be perceived as in the LLM\n",
    "- put artifacts in the query to help the LLM understand the task better (mapping instruction like page number, section number in a document)"
   ]
  }
 ],
 "metadata": {
  "language_info": {
   "name": "python"
  }
 },
 "nbformat": 4,
 "nbformat_minor": 5
}

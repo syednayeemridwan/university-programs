{
 "cells": [
  {
   "cell_type": "markdown",
   "id": "e12be879",
   "metadata": {},
   "source": [
    "# Advanced Data Analysis"
   ]
  },
  {
   "cell_type": "markdown",
   "id": "6198b51d",
   "metadata": {},
   "source": [
    "- Please read the provided document so that you can answer questions about it. (give the PDF document)\n",
    "    - now ask question\n",
    "- Please analyze the attached receipt and let me know if it complies\n",
    "- Please extract each page of this PDF as plain text in a separate file\n",
    "    - summarize the data in page 4\n",
    "    - Turn this data into an excel file\n",
    "    - display 4 interesting visualizations of this data\n",
    "    - (provide slide template) Save each visualization as an image. then insert each of these images as separate slides into the attached powerpoint. \n",
    "\n",
    "- I am going to need your help creating some data visualizations and inserting them into this powerpoint presentation (gives ppt template). I will upload the data next.\n",
    "- now please insert each of these visualizations as a seperate slide in the presentation. please start inserting them at the second slide.\n",
    "- create a csv file that has ..."
   ]
  },
  {
   "cell_type": "markdown",
   "id": "72463f5a",
   "metadata": {},
   "source": [
    "- Please extract each page of this PDF to a plain text file. Then, manually read the first three pages and learn what a prompt pattern is. Don't worry if there are formatting issues, just do your best and proceed. Then, ask me to describe my job or interests. Use what I tell you to describe to me what a prompt pattern is assuming I have no background in computer science. Make sure and use concrete examples based on my job or interests to show how I could use these patterns.   Make sure and write some sample prompt patterns that could be cut/pasted into Code Interpreter for me to try out. Each pattern should rely on a document or dataset relevant to me. Describe the purpose of the pattern, the problem it is trying to solve, what data the pattern needs and why, and then the prompt that will be used on the document.\n",
    "- please read this csv file:\n",
    "- Draw four visualizations for me that show me interesting things in this dataset. The visualization should show unexpected things based on higher education trends. Separately Write 2-3 paragraphs describing the visualizations and what they show.\n",
    "- Pick the ChatGPT Code Interpreter prompt pattern that you think would be most helpful to someone like me. Then, write a social media post about how you are taking the Coursera course \"ChatGPT Code Interpreter by Jules White\" and explain what Code Interpreter is, explain the problem the prompt pattern solves, what data you could upload with the prompt pattern, and what it would do for other people like me that would make their lives so much easier. Make the post exciting and have viral potential. Make sure readers have enough information to quickly cut/paste the pattern into Code Interpreter and know what to include with it in order to immediately take advantage of the prompt pattern."
   ]
  },
  {
   "cell_type": "markdown",
   "id": "fda2f86d",
   "metadata": {},
   "source": [
    "# Imagination into reality"
   ]
  },
  {
   "cell_type": "markdown",
   "id": "9d23a300",
   "metadata": {},
   "source": [
    "1. Ask me questions about the context of the work I am doing (e.g., work/personal, job title, industry, goals).     \n",
    "\n",
    "2. I have uploaded two files. One is a CSV file named combined_libraries_data.csv that you are going to use as a reference. The other file is the one I need ideas for.    \n",
    "\n",
    "3. Using the attached CSV, look at the type of the other file I just uploaded, then, based on the file extension and data type, look into the combined_libraries_data.csv CSV for potential things that you could do with this file and provide me with 10 ideas related to what you know about me.  Explain the ideas by a) describing the problem that is being solved, b) explaining what Code Interpreter could do to solve the problem, c) listing the text for the prompt that you would cut/paste into ChatGPT Advanced Data Analysis along with the file to implement the solution.  None of the solutions should be about generating software. "
   ]
  },
  {
   "cell_type": "markdown",
   "id": "e11d0c1f",
   "metadata": {},
   "source": [
    "# Know your Intern (GPT data analysis bot)"
   ]
  },
  {
   "cell_type": "markdown",
   "id": "2d23091c",
   "metadata": {},
   "source": [
    "- Pretend ChatGPT Advanced Data Analysis is Your Intern. It has:\n",
    "- limited knowledge\n",
    "- limited memory\n",
    "- gonna make istakes\n",
    "- so give everything in one query\n",
    "- next give it feedback to improve the "
   ]
  },
  {
   "cell_type": "markdown",
   "id": "cd41007c",
   "metadata": {},
   "source": [
    "When working with Code Interpreter, think of it as your intern or assistant. \n",
    "\n",
    "You will need to:\n",
    "\n",
    "1. Break things down step by step\n",
    "\n",
    "2. Provide all the necessary context or information to accomplish a task\n",
    "\n",
    "3. Provide detailed feedback on what to improve\n",
    "\n",
    "4. Do not expect the work to be perfect or error-free \n",
    "\n",
    "5. Always review everything for accuracy\n",
    "\n",
    "6. Don't expect Code Interpreter to be a mind reader, you need to be very specific about your goals, constraints, needs, etc."
   ]
  },
  {
   "cell_type": "markdown",
   "id": "2ef4f97d",
   "metadata": {},
   "source": [
    "# Document"
   ]
  },
  {
   "cell_type": "markdown",
   "id": "aa1871d4",
   "metadata": {},
   "source": [
    "- document as object: file, upload, download, delete .... \n",
    "- document as knowledge: analyze, summarize, outline, reasoning... "
   ]
  },
  {
   "cell_type": "markdown",
   "id": "31103568",
   "metadata": {},
   "source": [
    "# Doing work on python vs gpt4"
   ]
  },
  {
   "cell_type": "markdown",
   "id": "39a7baee",
   "metadata": {},
   "source": [
    "- You want to analyze text, numeric values, mathematical computations, scripting .... (you want the python code in gpt4)\n",
    "- summarizing, reading, writing something, searching... (you want the gpt4 itself to solve the problem)\n",
    "- When for some problem, only gpt4 fails, use both together to get a better result (example: sorting a long table in descending order)"
   ]
  }
 ],
 "metadata": {
  "language_info": {
   "name": "python"
  }
 },
 "nbformat": 4,
 "nbformat_minor": 5
}

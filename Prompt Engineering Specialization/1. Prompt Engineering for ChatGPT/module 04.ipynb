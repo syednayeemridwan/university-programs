{
 "cells": [
  {
   "cell_type": "markdown",
   "id": "4af07c35",
   "metadata": {},
   "source": [
    "# Few shot example Pattern"
   ]
  },
  {
   "cell_type": "markdown",
   "id": "44404575",
   "metadata": {},
   "source": [
    "- Provide examples to get the real answer to a particular question\n",
    "- there should be enough details, context and inputs\n",
    "- example: Giving supervised data / dialogue to answer the sentiment analysis result"
   ]
  },
  {
   "cell_type": "markdown",
   "id": "fb8bd881",
   "metadata": {},
   "source": [
    "# Chain of Thought"
   ]
  },
  {
   "cell_type": "markdown",
   "id": "4cbb9568",
   "metadata": {},
   "source": [
    "- Make the LLM explain the reasoning \n",
    "- Make LLMs show it's work behind the solution into multiple independent step with logical flow\n",
    "- One extension of few shot example pattern where multiple sample of problems with explained answers are provided to train the thought process of the LLM"
   ]
  },
  {
   "cell_type": "markdown",
   "id": "e174b0ff",
   "metadata": {},
   "source": [
    "# ReAct (think -> observe -> act)"
   ]
  },
  {
   "cell_type": "markdown",
   "id": "31bb9cda",
   "metadata": {},
   "source": [
    "```\n",
    "- Task: ... the problem...\n",
    "- Think: I need ...... the user wants ....\n",
    "- Action: do......\n",
    "- Result: .......\n",
    "- Think: I have done .... now I need to ...\n",
    "- Action: do......\n",
    "- Result: .......\n",
    "- Think: Now that I have done .... now I need to ...\n",
    "```"
   ]
  }
 ],
 "metadata": {
  "language_info": {
   "name": "python"
  }
 },
 "nbformat": 4,
 "nbformat_minor": 5
}

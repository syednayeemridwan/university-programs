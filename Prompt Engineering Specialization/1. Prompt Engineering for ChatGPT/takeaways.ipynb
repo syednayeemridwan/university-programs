{
 "cells": [
  {
   "cell_type": "markdown",
   "id": "dc73ee43",
   "metadata": {},
   "source": [
    "# Module 1"
   ]
  },
  {
   "cell_type": "markdown",
   "id": "43924594",
   "metadata": {},
   "source": [
    "- "
   ]
  }
 ],
 "metadata": {
  "language_info": {
   "name": "python"
  }
 },
 "nbformat": 4,
 "nbformat_minor": 5
}

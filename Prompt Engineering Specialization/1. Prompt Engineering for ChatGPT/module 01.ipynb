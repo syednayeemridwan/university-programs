{
 "cells": [
  {
   "cell_type": "markdown",
   "id": "42cb0f9d",
   "metadata": {},
   "source": [
    "# What You Need"
   ]
  },
  {
   "cell_type": "markdown",
   "id": "baf45c42",
   "metadata": {},
   "source": [
    "- Openness to explore and experiment\n",
    "- Ideas\n",
    "- Ability to word the ideas into text with specific inputs"
   ]
  },
  {
   "cell_type": "markdown",
   "id": "922f6cd4",
   "metadata": {},
   "source": [
    "# What you can do\n"
   ]
  },
  {
   "cell_type": "markdown",
   "id": "f6db504b",
   "metadata": {},
   "source": [
    "- Knowledge exploration\n",
    "- Prototyping\n",
    "- Content production\n",
    "- Assessment"
   ]
  },
  {
   "cell_type": "markdown",
   "id": "0e6cba1c",
   "metadata": {},
   "source": [
    "# Persona Pattern\n"
   ]
  },
  {
   "cell_type": "markdown",
   "id": "ac9e4e41",
   "metadata": {},
   "source": [
    "- Act as a ... . I am going to tell you what ... and your task is to write an assessment for me.\n",
    "- Act like a ... . I am going to ... and your task is to write an assessment for me."
   ]
  },
  {
   "cell_type": "markdown",
   "id": "76b73c9a",
   "metadata": {},
   "source": [
    "# Rule of thumb"
   ]
  },
  {
   "cell_type": "markdown",
   "id": "7ff95fbe",
   "metadata": {},
   "source": [
    "- The more complex the task, the more advanced the model that you should use\n",
    "- Every day tasks, such as reformatting information, writing emails, generating lists, etc. will work with any model."
   ]
  },
  {
   "cell_type": "markdown",
   "id": "83c083a0",
   "metadata": {},
   "source": [
    "# How they work"
   ]
  },
  {
   "cell_type": "markdown",
   "id": "d8f64ceb",
   "metadata": {},
   "source": [
    "- They take your input (prompt), and try to generate (by predicting) the words (tokens) to respond to your prompt until it reaches the end.\n",
    "- What we do: try to trigger a cause that will keep it going word by word until it reaches the end of our prompt satisfaction\n",
    "- The first time with same input, they will give typical answer. But never expect the same answer always since each output has variations (unpredictability). There is randomness. This helps to explore ideas, otherwise we all would get the same response.\n",
    "- There is a cut-off date for it's knowledge base. So they might need new additional information that was not available and you need to provide it for your task."
   ]
  }
 ],
 "metadata": {
  "language_info": {
   "name": "python"
  }
 },
 "nbformat": 4,
 "nbformat_minor": 5
}

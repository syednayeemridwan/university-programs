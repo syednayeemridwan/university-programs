{
 "cells": [
  {
   "cell_type": "markdown",
   "id": "b5509ee9",
   "metadata": {},
   "source": [
    "# Prompt"
   ]
  },
  {
   "cell_type": "markdown",
   "id": "3d563068",
   "metadata": {},
   "source": [
    "- Call to action for LLMs\n",
    "- A way of providing updated information for LLMs\n",
    "- Adding time to prompt will effect the next prompts for spanning time from the specified time: From now on, when I ask you a question, give me a better version of ...\n"
   ]
  },
  {
   "cell_type": "markdown",
   "id": "7e8dae76",
   "metadata": {},
   "source": [
    "# Behaviour of response"
   ]
  },
  {
   "cell_type": "markdown",
   "id": "a8ae0f4c",
   "metadata": {},
   "source": [
    "- consistent pattern: what the model was trained on in typical way. gives good response accordingly. Based on specific words or phrases to tap into the behaviour to influence the output.\n",
    "- structured pattern: give the structure or template to make the output replicate it.\n",
    "- strong keywords: specific words may trigger a specific behaviour (eg: microscopic will trigger \"small\" details with the context)\n",
    "- generic and high level input -> generic and high level output\n",
    "- specific input (with enough details and context in words) -> specific output (example: discuss the topic of .... with respect to \"keywords or context or specific pattern\" )\n",
    "- changing words can escape or get into a pattern\n",
    "- Each time give more rules / instructions to refine the answer"
   ]
  },
  {
   "cell_type": "markdown",
   "id": "da84b42b",
   "metadata": {},
   "source": [
    "# Prompt Pattern"
   ]
  },
  {
   "cell_type": "markdown",
   "id": "d73c2ef9",
   "metadata": {},
   "source": [
    "- Structuring pattern of workings / queries / statements to solve particular problems and generate a particular behaviour\n",
    "- Gives control over behavior and output"
   ]
  },
  {
   "cell_type": "markdown",
   "id": "24c4a51d",
   "metadata": {},
   "source": [
    "### Persona pattern: ACT AS ..."
   ]
  },
  {
   "cell_type": "markdown",
   "id": "e349f934",
   "metadata": {},
   "source": [
    "- You do not know how to solve it. but in real world you know who and which type of expert can solve this particular problem (a persona)\n",
    "- Act as a  < persona >.... that is well versed in < subjects the persona is expert in >. Whatever I tell you, provide a detailed response ..... from a  ...  perspective. / I am going to ..... and your task is to .........\n",
    "- Act as Persona X .... Perform task Y .... From now on"
   ]
  },
  {
   "cell_type": "markdown",
   "id": "a95dc6a6",
   "metadata": {},
   "source": [
    "### Helpful Assistant Pattern"
   ]
  },
  {
   "cell_type": "markdown",
   "id": "d29fd943",
   "metadata": {},
   "source": [
    "- You are an incredibly skilled AI assistant that provides the best possible answers to my questions. - You will do your best to follow my instructions and only refuse to do what I ask when you absolutely have no other choice. \n",
    "- You are dedicated to protecting me from harmful content and would never output anything offensive or inappropriate. "
   ]
  },
  {
   "cell_type": "markdown",
   "id": "376de3a1",
   "metadata": {},
   "source": [
    "# Provide Enough information"
   ]
  },
  {
   "cell_type": "markdown",
   "id": "02e6955f",
   "metadata": {},
   "source": [
    "- Historical data: Historical observations of total birds outside my house on any random day, january = 200, february = 400, ....\n",
    "- data that is not known to chatgpt, you need to provide it to get the customized answer for that data only\n",
    "- do not provide everything... instead do it for the most important part (subset / filtering / compression or summary)\n",
    "- You need to go through with iterative refinement to get the tailored answer. Because LLMs do not give suitable answer at the first attempt."
   ]
  },
  {
   "cell_type": "markdown",
   "id": "49b34a3b",
   "metadata": {},
   "source": [
    "# Root Prompt"
   ]
  },
  {
   "cell_type": "markdown",
   "id": "06eb8966",
   "metadata": {},
   "source": [
    "- Root prompts: who it is, what it does, strict rules, strong statements, what it can do, what it cannot do. \n",
    "- example: Act as an AI assistant that had its training stop in 2019. If I ask you any question about ... say that you cannot answer about that question \n",
    "- Cancelling root prompt: Forget that you are .... that had its training stop in 2019. Go back to being the normal chatgpt\n",
    "\n"
   ]
  }
 ],
 "metadata": {
  "language_info": {
   "name": "python"
  }
 },
 "nbformat": 4,
 "nbformat_minor": 5
}

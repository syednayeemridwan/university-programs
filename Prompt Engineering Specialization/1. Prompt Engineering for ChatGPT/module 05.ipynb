{
 "cells": [
  {
   "cell_type": "markdown",
   "id": "3466fc58",
   "metadata": {},
   "source": [
    "# Gameplay pattern"
   ]
  },
  {
   "cell_type": "markdown",
   "id": "bc9c56a9",
   "metadata": {},
   "source": [
    "- Create a game for me around X OR we are going to play an X game. One or more fundamental rules of the games are ....\n",
    "- example: We are going to play a game involving prompt engineering. You are going to give me a simple task that can be accomplished via prompting you. Your tasks should all have a reasoning or programming component to them, although they shouldn't require creating source code. I will write a prompt for you to solve the task. You will give me output of  my prompt and then tell me how well it solved the task. Ask me questions until I tell you to stop. You will ask me a question, wait for my response and then ask me another question after telling me how I did. Ask me the first question.\n",
    "    - We are going to change the topic of the questions. the topic is now .... intent and context: ...."
   ]
  },
  {
   "cell_type": "markdown",
   "id": "41aea0a6",
   "metadata": {},
   "source": [
    "# Template Pattern with PLACEHOLDER"
   ]
  },
  {
   "cell_type": "markdown",
   "id": "5b7a3bdd",
   "metadata": {},
   "source": [
    "- Template is XXXXyXXXX, y is my placeholder. fill in the placeholder with your output. preserce the formatting of the template\n",
    "\n",
    "\n",
    "- Example:\n",
    "\n",
    "I am going to give you a template for your output. CAPITALIZED WORDS are my placeholders. Fill in my placeholders with your output. Please preserve the overall formatting of my template. My template is:\n",
    "\n",
    "\n",
    "### Bio : <NAME>\n",
    "*** Executive Summary: *** : <ONE SENTENCE SUMMARY >\n",
    "*** Full Description: *** : <ONE PARAGRAPH SUMMARY >\n",
    "\n",
    "I will give you the data to format in the next prompt. Create 20 questions using my template"
   ]
  },
  {
   "cell_type": "markdown",
   "id": "0227205e",
   "metadata": {},
   "source": [
    "# META Language Creation Pattern"
   ]
  },
  {
   "cell_type": "markdown",
   "id": "8523b460",
   "metadata": {},
   "source": [
    "- When I say X, I mean Y (or would like you to do Y)\n",
    "\n",
    "- Example:\n",
    "\n",
    "We are going to create a trip planning application. I will describe my trip and you will list interesting things to do in those places that I pass through. I will tell you how many days I will stay in each place and you will list possible itineraries.\n",
    "\n",
    "To describe my route, I am going to use a shorthand notation.\n",
    "\n",
    "When I say \"Nashville,3->Memphis,2\", I will go from Nashville to Memphis and that I will stay 3 days in Nashville and 2 days in Memphis."
   ]
  },
  {
   "cell_type": "markdown",
   "id": "015c3331",
   "metadata": {},
   "source": [
    "# Recipe Pattern"
   ]
  },
  {
   "cell_type": "markdown",
   "id": "873ac805",
   "metadata": {},
   "source": [
    "- We know part of information, we ask the LLMs to fill in the gaps in  our knowledge\n",
    "- I would like to achieve X. I know that I need to perform steps A,B,C. Provide a complete sequence of steps for me. Fill in any missing steps.\n",
    "- example:\n",
    "\n",
    "I would like to drive to NYC from Nashville. I know that I want to go through Asheville, NC on the way and that I don't want to drive more than 300 miles per day. Provide a complete sequence of steps for me. Fill in any missing steps."
   ]
  },
  {
   "cell_type": "markdown",
   "id": "d36abcf8",
   "metadata": {},
   "source": [
    "# Alternative Approaches PAttern"
   ]
  },
  {
   "cell_type": "markdown",
   "id": "b470fe19",
   "metadata": {},
   "source": [
    "- Helps to explore potential approaches through brainstorming\n",
    "- If there are alternative ways to accomplish a task X that I give you, list the best alternate approaches \n",
    "- Example:\n",
    "\n",
    "From now on, if there are alternative aways to accomplish the same thing, list the best alternate approaches. Compare and contrast the alternatives and ask me which one I want to use."
   ]
  }
 ],
 "metadata": {
  "language_info": {
   "name": "python"
  }
 },
 "nbformat": 4,
 "nbformat_minor": 5
}

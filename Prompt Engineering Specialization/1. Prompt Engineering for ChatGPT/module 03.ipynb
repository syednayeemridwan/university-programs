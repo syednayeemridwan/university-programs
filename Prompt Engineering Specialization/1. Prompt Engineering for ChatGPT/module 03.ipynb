{
 "cells": [
  {
   "cell_type": "markdown",
   "id": "93d0edfb",
   "metadata": {},
   "source": [
    "# Question Refinement Pattern"
   ]
  },
  {
   "cell_type": "markdown",
   "id": "4cd79d0b",
   "metadata": {},
   "source": [
    "- give more general question and ask it to improve it for a particular context\n",
    "- Helps to identify missing important pieces of context that improves the question quality itself.\n",
    "- example: From now on, Whenever I ask a question, suggest a better question and ask me if I would like to use it instead."
   ]
  },
  {
   "cell_type": "markdown",
   "id": "4632beaf",
   "metadata": {},
   "source": [
    "# Cognitive Verifier Pattern"
   ]
  },
  {
   "cell_type": "markdown",
   "id": "d115c24e",
   "metadata": {},
   "source": [
    "- Ask LLMs to take questions from user and sub-divide them into individual questions or subproblems to answer or solve the overall problem\n",
    "- example: Whenever you are asked a question, follow these rules: generate a number of additional questions that would help more accurately answer the question, Combine the answers to the individual questions to produce the final answer to the overall question."
   ]
  },
  {
   "cell_type": "markdown",
   "id": "72afd00c",
   "metadata": {},
   "source": [
    "# Audience Persona Pattern"
   ]
  },
  {
   "cell_type": "markdown",
   "id": "e0b66739",
   "metadata": {},
   "source": [
    "- Define the personal of the audience who will listen to the output\n",
    "- Explain X to me. Assume that I am Persona Y (have limited background in computer science)\n",
    "- example: Explain LLMs and how they work on me. Assume that I have no background in computer science / Assume that I am a caveman that gets bored easily.\n"
   ]
  },
  {
   "cell_type": "markdown",
   "id": "d8bcd9e7",
   "metadata": {},
   "source": [
    "# Flipped Interaction Pattern"
   ]
  },
  {
   "cell_type": "markdown",
   "id": "fbcd80a8",
   "metadata": {},
   "source": [
    "- The situation reverses and now the LLM asks question and the user answers\n",
    "- I would like you to ask me questions to achieve X. You should ask questions until condition Y is met or to achieve this goal\n",
    "- example: Ask me questions about fitness goals until you have enough information to suggest a strength training regime for me. When you have enough information, show me the strength training regime."
   ]
  }
 ],
 "metadata": {
  "language_info": {
   "name": "python"
  }
 },
 "nbformat": 4,
 "nbformat_minor": 5
}

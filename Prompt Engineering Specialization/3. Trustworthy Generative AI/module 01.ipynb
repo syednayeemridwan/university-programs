{
 "cells": [
  {
   "cell_type": "markdown",
   "id": "09fdd75d",
   "metadata": {},
   "source": [
    "# Trustworthiness"
   ]
  },
  {
   "cell_type": "markdown",
   "id": "17f8a395",
   "metadata": {},
   "source": [
    "- Hallucination: It is nothing bad. It is an incredible feature that allows it to dream and make up stuffs.\n",
    "- The result is not a source of facts. Because many times, some values can be made up.\n",
    "- Always check answers\n",
    "- Is the process of checking correctness too rigorous for a particular task? Then this taks is not a good task to find solution on LLM.\n",
    "- Avoid solving risky task with LLM (asking for medications / diagnosis result). What you can do is give it enough information to mitigate the risk and find the appropriate use cases that help you to mitigate the risk through some other methods indirectly.\n",
    "- Ask for decision with more constraint. That way, even a partial answer will be very helpful\n",
    "- Deepen understanding by asking questions from different perspective. that way, you can verify with your knowledge whether the response is right or not.\n",
    "- Never copy-paste LLM response to cheat. or you'll be replaced by someone who makes good use of productivity of LLM in the industry because of his cognitive performance on creativity\n",
    "\n"
   ]
  },
  {
   "cell_type": "markdown",
   "id": "21bba7f7",
   "metadata": {},
   "source": [
    "# ACHIEVE Framework"
   ]
  },
  {
   "cell_type": "markdown",
   "id": "9fc1c2af",
   "metadata": {},
   "source": [
    "The Achieve acronym summarizes this as:\n",
    "- A: Aiding human coordination\n",
    "- C: Cutting out tedious tasks\n",
    "- H: Helping provide a safety net\n",
    "- IEV: Inspiring better problem solving and creativity\n",
    "- E: Enabling great ideas to scale faster"
   ]
  },
  {
   "cell_type": "markdown",
   "id": "b86929aa",
   "metadata": {},
   "source": [
    "# Use Case Operations for Traceability"
   ]
  },
  {
   "cell_type": "markdown",
   "id": "c3df1bbe",
   "metadata": {},
   "source": [
    "- Filtering: Give content, then create a suset out of it that can be verified and fact-checked\n",
    "- Ideation: ask for ideas. it's cheap. you evaluate it and get inspired for more complicated ideas.\n",
    "- Create pictures or diagrams for flow direction: Create mermaid diagrams for ....\n",
    "- Navigation: Ask the LLM to navigate through the software / screen / application instead of answering or generating made up result to direct the user to the area where the information is available\n",
    "    - example: Whenever I ask a question about X, don't ever tell me the answer. Instead, tell me the location where I can find X. A description of the different locations where information can be found are below.\n",
    "- Expertise: it takes an expertise to make a draft into a final product saving 80% of the time using LLM. It helps to assess what's appropriate and what's not."
   ]
  }
 ],
 "metadata": {
  "language_info": {
   "name": "python"
  }
 },
 "nbformat": 4,
 "nbformat_minor": 5
}

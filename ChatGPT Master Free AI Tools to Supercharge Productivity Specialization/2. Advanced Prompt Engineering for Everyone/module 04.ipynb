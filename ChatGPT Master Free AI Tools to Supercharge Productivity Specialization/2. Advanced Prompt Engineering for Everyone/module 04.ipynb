{
 "cells": [
  {
   "cell_type": "markdown",
   "id": "f7b31886",
   "metadata": {},
   "source": [
    "# Template pattern"
   ]
  },
  {
   "cell_type": "markdown",
   "id": "5095e919",
   "metadata": {},
   "source": [
    "- a pattern that uses placeholders\n",
    "- always give an escape route for values that do not match your criteria for effective sorting\n",
    "- use ellipses \"<>\" as placeholders\n",
    "- example: \n",
    "    - X uni was founded in <year in DD/MM/YYYY> by <founder>\n",
    "    - The list of schools are: <insert list of schools as bullets>\n",
    "    - Use markdown: Provide facts in footnotes behind every single content you generate like this  ..... <describe fact in detail> [^<insert footnote to original fact>] ..... # Footnotes: <insert footnotes as quotes from source material>\n"
   ]
  }
 ],
 "metadata": {
  "language_info": {
   "name": "python"
  }
 },
 "nbformat": 4,
 "nbformat_minor": 5
}

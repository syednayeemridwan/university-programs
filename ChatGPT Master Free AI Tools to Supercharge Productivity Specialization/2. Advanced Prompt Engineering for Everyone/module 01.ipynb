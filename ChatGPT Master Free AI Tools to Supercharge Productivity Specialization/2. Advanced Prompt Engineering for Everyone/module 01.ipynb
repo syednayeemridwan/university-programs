{
 "cells": [
  {
   "cell_type": "markdown",
   "id": "ce213943",
   "metadata": {},
   "source": [
    "# In-context writing, learning"
   ]
  },
  {
   "cell_type": "markdown",
   "id": "41e8416a",
   "metadata": {},
   "source": [
    "- make the style consistent (informal for social media, formal for official task)\n",
    "- show the model an ideal example so that the model can mimic the style"
   ]
  },
  {
   "cell_type": "markdown",
   "id": "072db273",
   "metadata": {},
   "source": [
    "# Conversation vs Adding additional information"
   ]
  },
  {
   "cell_type": "markdown",
   "id": "b57f13d1",
   "metadata": {},
   "source": [
    "- conversation: one prompt\n",
    "- additional information / instruction: Iterative refinement / follow-up / part of big prompt that adds meaning to context for creating the right big prompt."
   ]
  },
  {
   "cell_type": "markdown",
   "id": "db241878",
   "metadata": {},
   "source": [
    "# Writing Persona Pattern"
   ]
  },
  {
   "cell_type": "markdown",
   "id": "bdbfcdcf",
   "metadata": {},
   "source": [
    "- Format of the pattern:\n",
    "\n",
    "Instructions on what / how to write...\n",
    "The following are examples of the writing style to use:\n",
    "---------------\n",
    "Writing samples go here.....\n",
    "\n",
    "- Examples need to:\n",
    "    - solve the right problem (give right example to fit the criteria)\n",
    "    - with the right context (context should be related, not different criteria from the example)\n",
    "    - in the right way (give proper content structure guideline )"
   ]
  },
  {
   "cell_type": "markdown",
   "id": "7eae7a8f",
   "metadata": {},
   "source": [
    "# Preference-Driven Refinement"
   ]
  },
  {
   "cell_type": "markdown",
   "id": "9727a048",
   "metadata": {},
   "source": [
    "- develop initial prompt and generate an output\n",
    "- find sections in the output that you want to modify and add them to the original prompt as example\n",
    "- find sections in output that you dont like and add them as negative examples\n",
    "- add additional instructions to refine output\n",
    "- start a new conversation and generate output again\n",
    "- repeat the above steps until you have a prompt that solves problem reliably"
   ]
  }
 ],
 "metadata": {
  "language_info": {
   "name": "python"
  }
 },
 "nbformat": 4,
 "nbformat_minor": 5
}

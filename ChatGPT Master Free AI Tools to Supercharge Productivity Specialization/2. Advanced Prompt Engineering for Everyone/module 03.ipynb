{
 "cells": [
  {
   "cell_type": "markdown",
   "id": "0c6a3533",
   "metadata": {},
   "source": [
    "# Components of a prompt"
   ]
  },
  {
   "cell_type": "markdown",
   "id": "b8bcbde6",
   "metadata": {},
   "source": [
    "- instructions: tell them what to do\n",
    "- information: detail of the key points\n",
    "- patterns/examples: an example of fully completed task\n",
    "- output: how the output should look like\n",
    "- trigger:  \"marry had a little ....\""
   ]
  },
  {
   "cell_type": "markdown",
   "id": "7fda98f9",
   "metadata": {},
   "source": [
    "# Using LLM as Machine Learning Pre-trained model"
   ]
  },
  {
   "cell_type": "markdown",
   "id": "9b3a6ec3",
   "metadata": {},
   "source": [
    "- Perform classification: Dump information, ask it to create a structured CSV with a class label. then tell it to fill in the class label\n",
    "- Clustering: Tell it to make a ASCII tree / group them according to characteristics (\"taxonomy as an ASCII tree\")\n",
    "- Ask for predictions: Give it content and ask it to predict something based on the content\n",
    "- Get recommendation: Copy-paste all comments and ask for it's recommendation on certain topic\n",
    "- Making model: complete the pattern:.. then give rows and output. at the end give input cols except last column and ask what the last row would be"
   ]
  }
 ],
 "metadata": {
  "language_info": {
   "name": "python"
  }
 },
 "nbformat": 4,
 "nbformat_minor": 5
}

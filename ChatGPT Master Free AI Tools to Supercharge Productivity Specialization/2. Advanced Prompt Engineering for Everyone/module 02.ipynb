{
 "cells": [
  {
   "cell_type": "markdown",
   "id": "bd444181",
   "metadata": {},
   "source": [
    "# Exploiting Generation"
   ]
  },
  {
   "cell_type": "markdown",
   "id": "46934a16",
   "metadata": {},
   "source": [
    "- generate a perspective (a generic answer on a question from chatgpt)\n",
    "- ask how to solve this problem in different ways (ask it to question you to generate the right customized answers for you)\n",
    "- ask for perspective to solve a problem\n",
    "- ask to compare them and show the comparison between the perspectives\n"
   ]
  },
  {
   "cell_type": "markdown",
   "id": "f45bc1f2",
   "metadata": {},
   "source": [
    "# Create a new conversation in different LLM"
   ]
  },
  {
   "cell_type": "markdown",
   "id": "7b133009",
   "metadata": {},
   "source": [
    "- use different LLMs for task generation, bevause sometimes the LLM might memorize your task and do not do well on generating new ideas"
   ]
  },
  {
   "cell_type": "markdown",
   "id": "f1d78e15",
   "metadata": {},
   "source": [
    "# Perspective Evaluation"
   ]
  },
  {
   "cell_type": "markdown",
   "id": "8cb5cebb",
   "metadata": {},
   "source": [
    "- give me five metrics to compare and contrast of accomplishing the following task. don't list ways to accomplish the task.\n",
    "-----\n",
    "... the task ...\n",
    "\n",
    "......\n",
    "\n",
    ".... output format"
   ]
  },
  {
   "cell_type": "markdown",
   "id": "49dfccaa",
   "metadata": {},
   "source": [
    "# Automated Search"
   ]
  },
  {
   "cell_type": "markdown",
   "id": "a73154f8",
   "metadata": {},
   "source": [
    "- much like auto-testing\n",
    "- mimic solutions and re-generate. pick the one that suits the best\n",
    "- automate the task using the objective criteria"
   ]
  }
 ],
 "metadata": {
  "language_info": {
   "name": "python"
  }
 },
 "nbformat": 4,
 "nbformat_minor": 5
}
